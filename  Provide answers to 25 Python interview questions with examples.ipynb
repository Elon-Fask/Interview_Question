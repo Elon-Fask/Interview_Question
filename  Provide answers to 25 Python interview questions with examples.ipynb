{
 "cells": [
  {
   "cell_type": "markdown",
   "id": "9441f555-e494-4c70-bbe4-38dbc4b9afc4",
   "metadata": {},
   "source": [
    "Question 1:\n",
    "Longest increasing subsequence from array of integers (dynamic programming arrays)"
   ]
  },
  {
   "cell_type": "markdown",
   "id": "51673ecb-edc4-4c62-8880-8c58dd9560e6",
   "metadata": {},
   "source": [
    "Solution:\n",
    "The Longest Increasing Subsequence (LIS) problem is to find the length of the longest subsequence of a given sequence such that all elements of the subsequence are sorted in increasing order."
   ]
  },
  {
   "cell_type": "markdown",
   "id": "138fc29f-bd09-471c-a944-e5999774f5fa",
   "metadata": {},
   "source": [
    "Example:\n",
    "Suppose we have an unsorted list of integers. We have to find the longest increasing subsequence. So if the input is [10,9,2,5,3,7,101,18], then the output will be 4, as the increasing subsequence is [2,3,7,101]."
   ]
  },
  {
   "cell_type": "code",
   "execution_count": null,
   "id": "1b0687e9-eeb4-45b0-ba11-068bdfdfa56d",
   "metadata": {},
   "outputs": [
    {
     "name": "stdout",
     "output_type": "stream",
     "text": [
      "6\n"
     ]
    }
   ],
   "source": [
    "def lis(arr):\n",
    "    n = len(arr)\n",
    " \n",
    "    # Declare the list (array) for LIS and initialize LIS values for all indexes\n",
    "    lis = [1]*n\n",
    " \n",
    "    # Compute optimized LIS values in bottom up manner\n",
    "    for i in range(1, n):\n",
    "        for j in range(0, i):\n",
    "            if arr[i] > arr[j] and lis[i] < lis[j] + 1:\n",
    "                lis[i] = lis[j]+1\n",
    " \n",
    "    # Initialize maximum to 0 to get the maximum of all LIS\n",
    "    maximum = 0\n",
    " \n",
    "    # Pick maximum of all LIS values\n",
    "    for i in range(n):\n",
    "        maximum = max(maximum, lis[i])\n",
    " \n",
    "    return maximum\n",
    "\n",
    "arr = [10, 2, 9, 33, 21, 50, 41, 60, 80]\n",
    "print(lis(arr))"
   ]
  },
  {
   "cell_type": "markdown",
   "id": "79ac5b17-2281-4850-b501-6fef67d52e2e",
   "metadata": {},
   "source": [
    "Question 2:\n",
    "Unique paths in a grid (dynamic programming matrices)"
   ]
  },
  {
   "cell_type": "markdown",
   "id": "74a54722-51a7-4707-8344-6d5e78162256",
   "metadata": {},
   "source": [
    "Solution:\n",
    "Given a grid of size m * n, let us assume you are starting at (1, 1) and your goal is to reach (m, n). At any instance, if you are on (x, y), you can either go to (x, y + 1) or (x + 1, y).\n",
    "Now consider if some obstacles are added to the grids. How many unique paths would there be?"
   ]
  },
  {
   "cell_type": "markdown",
   "id": "5647df02-2cb4-4966-81a3-264189d3ff0f",
   "metadata": {},
   "source": [
    "Example:\n",
    "Input: [[0, 0, 0],\n",
    "        [0, 1, 0],             ** An obstacle and empty space are marked as 1 and 0 respectively in the grid.\n",
    "        [0, 0, 0]]\n",
    "        \n",
    "Using DP(Dynamic Programming):"
   ]
  },
  {
   "cell_type": "code",
   "execution_count": null,
   "id": "f940c6aa-85bf-4c02-9cc8-42bc6f35a737",
   "metadata": {},
   "outputs": [
    {
     "name": "stdout",
     "output_type": "stream",
     "text": [
      "2\n"
     ]
    }
   ],
   "source": [
    "def UniquePathHelper(i, j, r, c, A, paths):\n",
    "    # boundary condition or constraints\n",
    "    if (i == r or j == c):\n",
    "        return 0\n",
    "    if (A[i][j] == 1):\n",
    "        return 0\n",
    " \n",
    "    # base case\n",
    "    if (i == r - 1 and j == c - 1):\n",
    "        return 1\n",
    "    if (paths[i][j] != -1):\n",
    "        return paths[i][j]\n",
    " \n",
    "    paths[i][j] = UniquePathHelper(\n",
    "        i + 1, j, r, c, A, paths) + UniquePathHelper(i, j + 1, r, c, A, paths)\n",
    "    return paths[i][j]\n",
    "\n",
    "def uniquePathsWithObstacles(A):\n",
    "    r, c = len(A), len(A[0])\n",
    " \n",
    "    # create a 2D-matrix and initializing with value 0\n",
    "    paths = [[-1 for i in range(c)]for j in range(r)]\n",
    " \n",
    "    return UniquePathHelper(0, 0, r, c, A, paths)\n",
    "\n",
    "A = [[0, 0, 0], [0, 1, 0], [0, 0, 0]]\n",
    " \n",
    "print(uniquePathsWithObstacles(A))"
   ]
  },
  {
   "cell_type": "markdown",
   "id": "ad96a8f6-bdf8-46f9-aa21-12da9ee5f248",
   "metadata": {},
   "source": [
    "Question 3:\n",
    "   Add two numbers as a list (lists)"
   ]
  },
  {
   "cell_type": "markdown",
   "id": "92bc6de8-f055-4b98-912b-138db462db30",
   "metadata": {},
   "source": [
    "Solution:\n",
    "You are given two non-empty linked lists representing two non-negative integers. The digits are stored in reverse order, and each of their nodes contains a single digit. Add the two numbers and return the sum as a linked list.\n",
    "You may assume the two numbers do not contain any leading zero, except the number 0 itself.\n",
    "So if the numbers are 120 + 230, then the linked lists will be [0 → 2 → 1] + [0 → 3 → 2] = [0 → 5 → 3] = 350."
   ]
  },
  {
   "cell_type": "code",
   "execution_count": 3,
   "id": "b9387fb5-888e-4326-a0b5-658a1b6e7857",
   "metadata": {},
   "outputs": [
    {
     "name": "stdout",
     "output_type": "stream",
     "text": [
      "[0, 5, 3, ]\n"
     ]
    }
   ],
   "source": [
    "class ListNode:\n",
    "   def __init__(self, data, next = None):\n",
    "      self.val = data\n",
    "      self.next = next\n",
    "def make_list(elements):\n",
    "   head = ListNode(elements[0])\n",
    "   for element in elements[1:]:\n",
    "      ptr = head\n",
    "      while ptr.next:\n",
    "         ptr = ptr.next\n",
    "      ptr.next = ListNode(element)\n",
    "   return head\n",
    "def print_list(head):\n",
    "   ptr = head\n",
    "   print('[', end = \"\")\n",
    "   while ptr:\n",
    "      print(ptr.val, end = \", \")\n",
    "      ptr = ptr.next\n",
    "   print(']')\n",
    "class Solution:\n",
    "   def addTwoNumbers(self, l1: ListNode, l2: ListNode) -> ListNode:\n",
    "      head = None\n",
    "      temp = None\n",
    "      c = 0\n",
    "      while l1 or l2:\n",
    "         if not l1:\n",
    "            a= 0\n",
    "         else:\n",
    "            a = l1.val\n",
    "         if not l2:\n",
    "            b=0\n",
    "         else:\n",
    "            b = l2.val\n",
    "         n = a +b + c\n",
    "         c = 1 if n>9 else 0\n",
    "         node = ListNode(n%10)\n",
    "         if not head:\n",
    "            head = node\n",
    "            temp = node\n",
    "         else:\n",
    "            head.next = node\n",
    "            head = node\n",
    "         l1 = l1.next if l1 else None\n",
    "         l2 = l2.next if l2 else None\n",
    "      if c:\n",
    "         node = ListNode(1)\n",
    "         head.next = node\n",
    "      return temp\n",
    "ob1 = Solution()\n",
    "l1 = make_list([0,2,1])\n",
    "l2 = make_list([0,3,2])\n",
    "print_list(ob1.addTwoNumbers(l1, l2))"
   ]
  },
  {
   "cell_type": "markdown",
   "id": "bd8b6b95-d4e8-4835-be6d-8299b8142373",
   "metadata": {},
   "source": [
    "Question 4:\n",
    "Design cache (system design)"
   ]
  },
  {
   "cell_type": "markdown",
   "id": "ea99d484-a3a6-4a3a-b46d-08c02f0d846d",
   "metadata": {},
   "source": [
    "Solution:\n",
    "Caching is a technique that stores copies of frequently used application data in a layer of smaller, faster memory in order to improve data retrieval times, throughput, and compute costs.\n",
    "\n",
    "In Python, exceptions can be handled using a try statement. The critical operation which can raise an exception is placed inside the try clause. The code that handles the exceptions is written in the except clause."
   ]
  },
  {
   "cell_type": "markdown",
   "id": "0256c6c1-1ac5-4c06-82c1-04a4fe97b454",
   "metadata": {},
   "source": [
    "Question 5:\n",
    "Design a highly consistent database (system design)"
   ]
  },
  {
   "cell_type": "markdown",
   "id": "bce51e15-dbd1-4859-ad8d-489856a59e77",
   "metadata": {},
   "source": [
    "Solution:\n"
   ]
  },
  {
   "cell_type": "markdown",
   "id": "ba860ab2-a125-4c70-b524-59197f52714e",
   "metadata": {},
   "source": [
    "Question 6:\n",
    "Rotate a matrix (arrays)\n",
    "\n",
    "Solution:\n",
    " Given a matrix, clockwise rotate elements in it."
   ]
  },
  {
   "cell_type": "code",
   "execution_count": 1,
   "id": "83bea243",
   "metadata": {},
   "outputs": [
    {
     "name": "stdout",
     "output_type": "stream",
     "text": [
      "[1, 6, 22, 9]\n",
      "[2, 10, 6, 1]\n",
      "[3, 1, 0, 8]\n",
      "[74, 5, 26, 2]\n"
     ]
    }
   ],
   "source": [
    "# Function to rotate a matrix\n",
    "def rotateMatrix(mat):\n",
    " \n",
    "    if not len(mat):\n",
    "        return\n",
    " \n",
    "    top = 0\n",
    "    bottom = len(mat)-1\n",
    " \n",
    "    left = 0\n",
    "    right = len(mat[0])-1\n",
    " \n",
    "    while left < right and top < bottom:\n",
    " \n",
    "        # Store the first element of next row, this element will replace first element of current row\n",
    "        prev = mat[top+1][left]\n",
    " \n",
    "        # Move elements of top row one step right\n",
    "        for i in range(left, right+1):\n",
    "            curr = mat[top][i]\n",
    "            mat[top][i] = prev\n",
    "            prev = curr\n",
    " \n",
    "        top += 1\n",
    " \n",
    "        # Move elements of rightmost column one step downwards\n",
    "        for i in range(top, bottom+1):\n",
    "            curr = mat[i][right]\n",
    "            mat[i][right] = prev\n",
    "            prev = curr\n",
    " \n",
    "        right -= 1\n",
    " \n",
    "        # Move elements of bottom row one step left\n",
    "        for i in range(right, left-1, -1):\n",
    "            curr = mat[bottom][i]\n",
    "            mat[bottom][i] = prev\n",
    "            prev = curr\n",
    " \n",
    "        bottom -= 1\n",
    " \n",
    "        # Move elements of leftmost column one step upwards\n",
    "        for i in range(bottom, top-1, -1):\n",
    "            curr = mat[i][left]\n",
    "            mat[i][left] = prev\n",
    "            prev = curr\n",
    " \n",
    "        left += 1\n",
    " \n",
    "    return mat\n",
    " \n",
    "# Utility Function\n",
    "def printMatrix(mat):\n",
    "    for row in mat:\n",
    "        print (row)\n",
    "\n",
    "matrix =[\n",
    "            [6,  22,  9,  1 ],\n",
    "            [1,  6,  0,  8 ],\n",
    "            [2,  10, 1, 2 ],\n",
    "            [3, 74, 5, 26 ] \n",
    "        ]\n",
    "\n",
    "matrix = rotateMatrix(matrix)\n",
    "# Print modified matrix\n",
    "printMatrix(matrix)"
   ]
  },
  {
   "cell_type": "markdown",
   "id": "cc6ad6f7",
   "metadata": {},
   "source": [
    "Question 7:\n",
    " Design a URL shortener (system design)\n",
    "\n",
    "Solution:\n",
    " A URL shortener is a tool that takes a long URL and turns it into a short one that redirects to the intended page. URL shorteners prove to be useful in many cases, such as tracking the number of clicks or requiring the user to only type a small number of characters, as long URLs are difficult to memorize.\n",
    " \n",
    "we will use a python library named \"pyshorteners\""
   ]
  },
  {
   "cell_type": "code",
   "execution_count": 1,
   "id": "4c3fdde2",
   "metadata": {},
   "outputs": [
    {
     "name": "stdout",
     "output_type": "stream",
     "text": [
      "Defaulting to user installation because normal site-packages is not writeable\n",
      "Requirement already satisfied: pyshorteners in /home/elon_musk/.local/lib/python3.10/site-packages (1.0.1)\n",
      "Requirement already satisfied: requests in /usr/lib/python3/dist-packages (from pyshorteners) (2.27.1)\n",
      "Note: you may need to restart the kernel to use updated packages.\n"
     ]
    }
   ],
   "source": [
    "pip install pyshorteners # to install the library"
   ]
  },
  {
   "cell_type": "code",
   "execution_count": null,
   "id": "c48a99e8",
   "metadata": {
    "scrolled": true
   },
   "outputs": [],
   "source": [
    "import pyshorteners\n",
    "\n",
    "#insert the URL\n",
    "main_url = input(\"Enter the Main URL: \")\n",
    "\n",
    "#initialize the Shortener\n",
    "url_shortener = pyshorteners.Shortener()\n",
    "\n",
    "#short the url with tinyurl\n",
    "short_url = url_shortener.tinyurl.short(main_url)\n",
    "\n",
    "print(f\"The Short Url of {main_url} is: \")\n",
    "print(short_url)"
   ]
  },
  {
   "cell_type": "markdown",
   "id": "8c343549",
   "metadata": {},
   "source": [
    "Question 8:\n",
    "  Design a recommendation system (ML, system design)\n",
    "  \n",
    "Solution:\n",
    "  Recommender systems are a way of suggesting or similar items and ideas to a user’s specific way of thinking.\n",
    "\n",
    "Implementation:\n",
    " > in this python recommendation system, we will base on 2 csv files, they contains user's id and movie rating, after running, it will shows as rating based on the sitted user's id in the code.\n",
    "  "
   ]
  },
  {
   "cell_type": "code",
   "execution_count": 3,
   "id": "891e0941",
   "metadata": {
    "scrolled": true
   },
   "outputs": [
    {
     "ename": "SyntaxError",
     "evalue": "invalid syntax (3045274574.py, line 1)",
     "output_type": "error",
     "traceback": [
      "\u001b[0;36m  File \u001b[0;32m\"/tmp/ipykernel_96221/3045274574.py\"\u001b[0;36m, line \u001b[0;32m1\u001b[0m\n\u001b[0;31m    pip install np\u001b[0m\n\u001b[0m        ^\u001b[0m\n\u001b[0;31mSyntaxError\u001b[0m\u001b[0;31m:\u001b[0m invalid syntax\n"
     ]
    }
   ],
   "source": [
    "pip install numpy\n",
    "pip install pandas\n",
    "pip install sklearn\n",
    "pip install matplotlib\n",
    "pip install seaborn"
   ]
  },
  {
   "cell_type": "code",
   "execution_count": 4,
   "id": "27bbf963",
   "metadata": {},
   "outputs": [
    {
     "ename": "KeyboardInterrupt",
     "evalue": "",
     "output_type": "error",
     "traceback": [
      "\u001b[0;31m---------------------------------------------------------------------------\u001b[0m",
      "\u001b[0;31mKeyboardInterrupt\u001b[0m                         Traceback (most recent call last)",
      "\u001b[0;32m/tmp/ipykernel_6071/1447743525.py\u001b[0m in \u001b[0;36m<module>\u001b[0;34m\u001b[0m\n\u001b[1;32m      3\u001b[0m \u001b[0;32mimport\u001b[0m \u001b[0mpandas\u001b[0m \u001b[0;32mas\u001b[0m \u001b[0mpd\u001b[0m\u001b[0;34m\u001b[0m\u001b[0;34m\u001b[0m\u001b[0m\n\u001b[1;32m      4\u001b[0m \u001b[0;32mimport\u001b[0m \u001b[0msklearn\u001b[0m\u001b[0;34m\u001b[0m\u001b[0;34m\u001b[0m\u001b[0m\n\u001b[0;32m----> 5\u001b[0;31m \u001b[0;32mimport\u001b[0m \u001b[0mmatplotlib\u001b[0m\u001b[0;34m.\u001b[0m\u001b[0mpyplot\u001b[0m \u001b[0;32mas\u001b[0m \u001b[0mplt\u001b[0m\u001b[0;34m\u001b[0m\u001b[0;34m\u001b[0m\u001b[0m\n\u001b[0m\u001b[1;32m      6\u001b[0m \u001b[0;32mimport\u001b[0m \u001b[0mseaborn\u001b[0m \u001b[0;32mas\u001b[0m \u001b[0msns\u001b[0m\u001b[0;34m\u001b[0m\u001b[0;34m\u001b[0m\u001b[0m\n\u001b[1;32m      7\u001b[0m \u001b[0;34m\u001b[0m\u001b[0m\n",
      "\u001b[0;32m/usr/lib/python3/dist-packages/matplotlib/pyplot.py\u001b[0m in \u001b[0;36m<module>\u001b[0;34m\u001b[0m\n\u001b[1;32m     55\u001b[0m \u001b[0;32mfrom\u001b[0m \u001b[0mmatplotlib\u001b[0m \u001b[0;32mimport\u001b[0m \u001b[0mdocstring\u001b[0m\u001b[0;34m\u001b[0m\u001b[0;34m\u001b[0m\u001b[0m\n\u001b[1;32m     56\u001b[0m \u001b[0;32mfrom\u001b[0m \u001b[0mmatplotlib\u001b[0m\u001b[0;34m.\u001b[0m\u001b[0mbackend_bases\u001b[0m \u001b[0;32mimport\u001b[0m \u001b[0mFigureCanvasBase\u001b[0m\u001b[0;34m,\u001b[0m \u001b[0mMouseButton\u001b[0m\u001b[0;34m\u001b[0m\u001b[0;34m\u001b[0m\u001b[0m\n\u001b[0;32m---> 57\u001b[0;31m \u001b[0;32mfrom\u001b[0m \u001b[0mmatplotlib\u001b[0m\u001b[0;34m.\u001b[0m\u001b[0mfigure\u001b[0m \u001b[0;32mimport\u001b[0m \u001b[0mFigure\u001b[0m\u001b[0;34m,\u001b[0m \u001b[0mfigaspect\u001b[0m\u001b[0;34m\u001b[0m\u001b[0;34m\u001b[0m\u001b[0m\n\u001b[0m\u001b[1;32m     58\u001b[0m \u001b[0;32mfrom\u001b[0m \u001b[0mmatplotlib\u001b[0m\u001b[0;34m.\u001b[0m\u001b[0mgridspec\u001b[0m \u001b[0;32mimport\u001b[0m \u001b[0mGridSpec\u001b[0m\u001b[0;34m,\u001b[0m \u001b[0mSubplotSpec\u001b[0m\u001b[0;34m\u001b[0m\u001b[0;34m\u001b[0m\u001b[0m\n\u001b[1;32m     59\u001b[0m \u001b[0;32mfrom\u001b[0m \u001b[0mmatplotlib\u001b[0m \u001b[0;32mimport\u001b[0m \u001b[0mrcParams\u001b[0m\u001b[0;34m,\u001b[0m \u001b[0mrcParamsDefault\u001b[0m\u001b[0;34m,\u001b[0m \u001b[0mget_backend\u001b[0m\u001b[0;34m,\u001b[0m \u001b[0mrcParamsOrig\u001b[0m\u001b[0;34m\u001b[0m\u001b[0;34m\u001b[0m\u001b[0m\n",
      "\u001b[0;32m/usr/lib/python3/dist-packages/matplotlib/figure.py\u001b[0m in \u001b[0;36m<module>\u001b[0;34m\u001b[0m\n\u001b[1;32m     23\u001b[0m \u001b[0;34m\u001b[0m\u001b[0m\n\u001b[1;32m     24\u001b[0m \u001b[0;32mimport\u001b[0m \u001b[0mmatplotlib\u001b[0m \u001b[0;32mas\u001b[0m \u001b[0mmpl\u001b[0m\u001b[0;34m\u001b[0m\u001b[0;34m\u001b[0m\u001b[0m\n\u001b[0;32m---> 25\u001b[0;31m \u001b[0;32mfrom\u001b[0m \u001b[0mmatplotlib\u001b[0m \u001b[0;32mimport\u001b[0m \u001b[0m_blocking_input\u001b[0m\u001b[0;34m,\u001b[0m \u001b[0mdocstring\u001b[0m\u001b[0;34m,\u001b[0m \u001b[0mprojections\u001b[0m\u001b[0;34m\u001b[0m\u001b[0;34m\u001b[0m\u001b[0m\n\u001b[0m\u001b[1;32m     26\u001b[0m from matplotlib.artist import (\n\u001b[1;32m     27\u001b[0m     Artist, allow_rasterization, _finalize_rasterization)\n",
      "\u001b[0;32m/usr/lib/python3/dist-packages/matplotlib/projections/__init__.py\u001b[0m in \u001b[0;36m<module>\u001b[0;34m\u001b[0m\n\u001b[1;32m     53\u001b[0m \"\"\"\n\u001b[1;32m     54\u001b[0m \u001b[0;34m\u001b[0m\u001b[0m\n\u001b[0;32m---> 55\u001b[0;31m \u001b[0;32mfrom\u001b[0m \u001b[0;34m.\u001b[0m\u001b[0;34m.\u001b[0m \u001b[0;32mimport\u001b[0m \u001b[0maxes\u001b[0m\u001b[0;34m,\u001b[0m \u001b[0mdocstring\u001b[0m\u001b[0;34m\u001b[0m\u001b[0;34m\u001b[0m\u001b[0m\n\u001b[0m\u001b[1;32m     56\u001b[0m \u001b[0;32mfrom\u001b[0m \u001b[0;34m.\u001b[0m\u001b[0mgeo\u001b[0m \u001b[0;32mimport\u001b[0m \u001b[0mAitoffAxes\u001b[0m\u001b[0;34m,\u001b[0m \u001b[0mHammerAxes\u001b[0m\u001b[0;34m,\u001b[0m \u001b[0mLambertAxes\u001b[0m\u001b[0;34m,\u001b[0m \u001b[0mMollweideAxes\u001b[0m\u001b[0;34m\u001b[0m\u001b[0;34m\u001b[0m\u001b[0m\n\u001b[1;32m     57\u001b[0m \u001b[0;32mfrom\u001b[0m \u001b[0;34m.\u001b[0m\u001b[0mpolar\u001b[0m \u001b[0;32mimport\u001b[0m \u001b[0mPolarAxes\u001b[0m\u001b[0;34m\u001b[0m\u001b[0;34m\u001b[0m\u001b[0m\n",
      "\u001b[0;32m/usr/lib/python3/dist-packages/matplotlib/axes/__init__.py\u001b[0m in \u001b[0;36m<module>\u001b[0;34m\u001b[0m\n\u001b[0;32m----> 1\u001b[0;31m \u001b[0;32mfrom\u001b[0m \u001b[0;34m.\u001b[0m\u001b[0m_subplots\u001b[0m \u001b[0;32mimport\u001b[0m \u001b[0;34m*\u001b[0m\u001b[0;34m\u001b[0m\u001b[0;34m\u001b[0m\u001b[0m\n\u001b[0m\u001b[1;32m      2\u001b[0m \u001b[0;32mfrom\u001b[0m \u001b[0;34m.\u001b[0m\u001b[0m_axes\u001b[0m \u001b[0;32mimport\u001b[0m \u001b[0;34m*\u001b[0m\u001b[0;34m\u001b[0m\u001b[0;34m\u001b[0m\u001b[0m\n",
      "\u001b[0;32m/usr/lib/python3/dist-packages/matplotlib/axes/_subplots.py\u001b[0m in \u001b[0;36m<module>\u001b[0;34m\u001b[0m\n\u001b[1;32m      2\u001b[0m \u001b[0;32mfrom\u001b[0m \u001b[0mmatplotlib\u001b[0m \u001b[0;32mimport\u001b[0m \u001b[0m_api\u001b[0m\u001b[0;34m,\u001b[0m \u001b[0mcbook\u001b[0m\u001b[0;34m\u001b[0m\u001b[0;34m\u001b[0m\u001b[0m\n\u001b[1;32m      3\u001b[0m \u001b[0;32mfrom\u001b[0m \u001b[0mmatplotlib\u001b[0m\u001b[0;34m.\u001b[0m\u001b[0maxes\u001b[0m\u001b[0;34m.\u001b[0m\u001b[0m_axes\u001b[0m \u001b[0;32mimport\u001b[0m \u001b[0mAxes\u001b[0m\u001b[0;34m\u001b[0m\u001b[0;34m\u001b[0m\u001b[0m\n\u001b[0;32m----> 4\u001b[0;31m \u001b[0;32mfrom\u001b[0m \u001b[0mmatplotlib\u001b[0m\u001b[0;34m.\u001b[0m\u001b[0mgridspec\u001b[0m \u001b[0;32mimport\u001b[0m \u001b[0mGridSpec\u001b[0m\u001b[0;34m,\u001b[0m \u001b[0mSubplotSpec\u001b[0m\u001b[0;34m\u001b[0m\u001b[0;34m\u001b[0m\u001b[0m\n\u001b[0m\u001b[1;32m      5\u001b[0m \u001b[0;34m\u001b[0m\u001b[0m\n\u001b[1;32m      6\u001b[0m \u001b[0;34m\u001b[0m\u001b[0m\n",
      "\u001b[0;32m/usr/lib/python3.10/importlib/_bootstrap.py\u001b[0m in \u001b[0;36m_find_and_load\u001b[0;34m(name, import_)\u001b[0m\n",
      "\u001b[0;32m/usr/lib/python3.10/importlib/_bootstrap.py\u001b[0m in \u001b[0;36m_find_and_load_unlocked\u001b[0;34m(name, import_)\u001b[0m\n",
      "\u001b[0;32m/usr/lib/python3.10/importlib/_bootstrap.py\u001b[0m in \u001b[0;36m_load_unlocked\u001b[0;34m(spec)\u001b[0m\n",
      "\u001b[0;32m/usr/lib/python3.10/importlib/_bootstrap_external.py\u001b[0m in \u001b[0;36mexec_module\u001b[0;34m(self, module)\u001b[0m\n",
      "\u001b[0;32m/usr/lib/python3.10/importlib/_bootstrap_external.py\u001b[0m in \u001b[0;36mget_code\u001b[0;34m(self, fullname)\u001b[0m\n",
      "\u001b[0;32m/usr/lib/python3.10/importlib/_bootstrap_external.py\u001b[0m in \u001b[0;36mget_data\u001b[0;34m(self, path)\u001b[0m\n",
      "\u001b[0;31mKeyboardInterrupt\u001b[0m: "
     ]
    }
   ],
   "source": [
    "# code\n",
    "import numpy as np\n",
    "import pandas as pd\n",
    "import sklearn\n",
    "import matplotlib.pyplot as plt\n",
    "import seaborn as sns\n",
    "  \n",
    "import warnings\n",
    "warnings.simplefilter(action='ignore', category=FutureWarning)\n",
    "  \n",
    "ratings = pd.read_csv(\"https://s3-us-west-2.amazonaws.com/recommender-tutorial/ratings.csv\")\n",
    "ratings.head()\n",
    "  \n",
    "movies = pd.read_csv(\"https://s3-us-west-2.amazonaws.com/recommender-tutorial/movies.csv\")\n",
    "movies.head()\n",
    "  \n",
    "n_ratings = len(ratings)\n",
    "n_movies = len(ratings['movieId'].unique())\n",
    "n_users = len(ratings['userId'].unique())\n",
    "  \n",
    "print(f\"Number of ratings: {n_ratings}\")\n",
    "print(f\"Number of unique movieId's: {n_movies}\")\n",
    "print(f\"Number of unique users: {n_users}\")\n",
    "print(f\"Average ratings per user: {round(n_ratings/n_users, 2)}\")\n",
    "print(f\"Average ratings per movie: {round(n_ratings/n_movies, 2)}\")\n",
    "  \n",
    "user_freq = ratings[['userId', 'movieId']].groupby('userId').count().reset_index()\n",
    "user_freq.columns = ['userId', 'n_ratings']\n",
    "user_freq.head()\n",
    "  \n",
    "  \n",
    "# Find Lowest and Highest rated movies:\n",
    "mean_rating = ratings.groupby('movieId')[['rating']].mean()\n",
    "# Lowest rated movies\n",
    "lowest_rated = mean_rating['rating'].idxmin()\n",
    "movies.loc[movies['movieId'] == lowest_rated]\n",
    "# Highest rated movies\n",
    "highest_rated = mean_rating['rating'].idxmax()\n",
    "movies.loc[movies['movieId'] == highest_rated]\n",
    "# show number of people who rated movies rated movie highest\n",
    "ratings[ratings['movieId']==highest_rated]\n",
    "# show number of people who rated movies rated movie lowest\n",
    "ratings[ratings['movieId']==lowest_rated]\n",
    "  \n",
    "## the above movies has very low dataset. We will use bayesian average\n",
    "movie_stats = ratings.groupby('movieId')[['rating']].agg(['count', 'mean'])\n",
    "movie_stats.columns = movie_stats.columns.droplevel()\n",
    "  \n",
    "# Now, we create user-item matrix using scipy csr matrix\n",
    "from scipy.sparse import csr_matrix\n",
    "  \n",
    "def create_matrix(df):\n",
    "      \n",
    "    N = len(df['userId'].unique())\n",
    "    M = len(df['movieId'].unique())\n",
    "      \n",
    "    # Map Ids to indices\n",
    "    user_mapper = dict(zip(np.unique(df[\"userId\"]), list(range(N))))\n",
    "    movie_mapper = dict(zip(np.unique(df[\"movieId\"]), list(range(M))))\n",
    "      \n",
    "    # Map indices to IDs\n",
    "    user_inv_mapper = dict(zip(list(range(N)), np.unique(df[\"userId\"])))\n",
    "    movie_inv_mapper = dict(zip(list(range(M)), np.unique(df[\"movieId\"])))\n",
    "      \n",
    "    user_index = [user_mapper[i] for i in df['userId']]\n",
    "    movie_index = [movie_mapper[i] for i in df['movieId']]\n",
    "  \n",
    "    X = csr_matrix((df[\"rating\"], (movie_index, user_index)), shape=(M, N))\n",
    "      \n",
    "    return X, user_mapper, movie_mapper, user_inv_mapper, movie_inv_mapper\n",
    "  \n",
    "X, user_mapper, movie_mapper, user_inv_mapper, movie_inv_mapper = create_matrix(ratings)\n",
    "  \n",
    "from sklearn.neighbors import NearestNeighbors\n",
    "\"\"\"\n",
    "Find similar movies using KNN\n",
    "\"\"\"\n",
    "def find_similar_movies(movie_id, X, k, metric='cosine', show_distance=False):\n",
    "      \n",
    "    neighbour_ids = []\n",
    "      \n",
    "    movie_ind = movie_mapper[movie_id]\n",
    "    movie_vec = X[movie_ind]\n",
    "    k+=1\n",
    "    kNN = NearestNeighbors(n_neighbors=k, algorithm=\"brute\", metric=metric)\n",
    "    kNN.fit(X)\n",
    "    movie_vec = movie_vec.reshape(1,-1)\n",
    "    neighbour = kNN.kneighbors(movie_vec, return_distance=show_distance)\n",
    "    for i in range(0,k):\n",
    "        n = neighbour.item(i)\n",
    "        neighbour_ids.append(movie_inv_mapper[n])\n",
    "    neighbour_ids.pop(0)\n",
    "    return neighbour_ids\n",
    "  \n",
    "  \n",
    "movie_titles = dict(zip(movies['movieId'], movies['title']))\n",
    "\n",
    "movie_id = 1\n",
    "  \n",
    "similar_ids = find_similar_movies(movie_id, X, k=3)\n",
    "movie_title = movie_titles[movie_id]\n",
    "  \n",
    "print(f\"Since you watched <{movie_title}>\")\n",
    "for i in similar_ids:\n",
    "   print(f\"+ {movie_titles[i]}\")"
   ]
  },
  {
   "cell_type": "markdown",
   "id": "8c1b48f4",
   "metadata": {},
   "source": [
    "Question 9:\n",
    "   Find nth Fibonacci number (number theory)\n",
    "\n",
    "Solution:\n",
    "   Fibonacci numbers are a sequence of whole numbers arranged as 0, 1, 1, 2, 3, 5, 8, 13, 21, 34,... Every number is the sum of the preceding two numbers.\n",
    "\n",
    "   Fn = Fn-1 + Fn-2\n",
    "\n",
    "where,\n",
    "n > 1\n",
    "Fn-1 → nth Fibonacci number\n",
    "Fn-2 → (n - 1)th Fibonacci number"
   ]
  },
  {
   "cell_type": "code",
   "execution_count": 4,
   "id": "26b42cb6",
   "metadata": {},
   "outputs": [
    {
     "name": "stdout",
     "output_type": "stream",
     "text": [
      "5\n"
     ]
    }
   ],
   "source": [
    "# Calculate the Fibonacci number\n",
    "def solve(n):\n",
    "\n",
    "    if n ==2:\n",
    "        return n-1\n",
    "    elif n==0:\n",
    "        return 0\n",
    "    elif n==1:\n",
    "        return 1\n",
    "    elif n<0:\n",
    "        print(\"Incorrect input\")\n",
    "\n",
    "    else:\n",
    "        return solve(n-1)+solve(n-2)\n",
    "\n",
    "n = 5\n",
    "print(solve(n))"
   ]
  },
  {
   "cell_type": "markdown",
   "id": "62143ac6",
   "metadata": {},
   "source": [
    "Question 10:\n",
    "   Find the square root of an integer using binary search (math search answer)\n",
    "   \n",
    "Implementation:"
   ]
  },
  {
   "cell_type": "code",
   "execution_count": null,
   "id": "03bd45d2",
   "metadata": {},
   "outputs": [],
   "source": [
    "# Function to find square root of given number upto given precision\n",
    "def squareRoot(number, precision):\n",
    " \n",
    "    start = 0\n",
    "    end, ans = number, 1 \n",
    " \n",
    "    # For computing integral part of square root of number\n",
    "    while (start <= end):\n",
    "        mid = int((start + end) / 2)\n",
    " \n",
    "        if (mid * mid == number):\n",
    "            ans = mid\n",
    "            break\n",
    " \n",
    "        # incrementing start if integral part lies on right side of the mid\n",
    "        if (mid * mid < number):\n",
    "            start = mid + 1\n",
    "            ans = mid\n",
    " \n",
    "        # decrementing end if integral part lies on the left side of the mid\n",
    "        else:\n",
    "            end = mid - 1\n",
    " \n",
    "    # For computing the fractional part of square root upto given precision\n",
    "    increment = 0.1\n",
    "    for i in range(0, precision):\n",
    "        while (ans * ans <= number):\n",
    "            ans += increment\n",
    " \n",
    "        # loop terminates when ans * ans > number\n",
    "        ans = ans - increment\n",
    "        increment = increment / 10\n",
    " \n",
    "    return ans\n",
    " \n",
    " \n",
    "# Driver code\n",
    "print(round(squareRoot(16, 3), 4))\n",
    "print(round(squareRoot(123, 4), 4))"
   ]
  },
  {
   "cell_type": "markdown",
   "id": "93b5f005",
   "metadata": {},
   "source": [
    "Question 11:\n",
    "   Implement StrStr (string search)\n",
    "    \n",
    "Solution:\n",
    "   Suppose we have two strings str and sub_str. We have to find the first occurrence of sub_str in the str. So if the string str is “hello”, and substring is “ll”, then the result will be 2.\n",
    "\n",
    "This can be done using the strstr() function in C. We have to design another function that is similar to the strstr() in C."
   ]
  },
  {
   "cell_type": "code",
   "execution_count": 1,
   "id": "68426ee5",
   "metadata": {},
   "outputs": [
    {
     "name": "stdout",
     "output_type": "stream",
     "text": [
      "3\n"
     ]
    }
   ],
   "source": [
    "# Clarification:\n",
    "\n",
    "# What should we return when needle is an empty string?\n",
    "# This is a great question to ask during an interview.\n",
    "\n",
    "# For the purpose of this problem, we will return 0 when needle is an empty string.\n",
    "\n",
    "class Solution(object):\n",
    "   def strStr(self, haystack, needle):\n",
    "    # len() conditions:\n",
    "    \n",
    "      i = 0\n",
    "      j = 0\n",
    "      m = len(needle)\n",
    "      n = len(haystack)\n",
    "      if m ==0:\n",
    "         return 0\n",
    "      while i<n and n-i+1>=m:\n",
    "         if haystack[i] == needle[j]:\n",
    "            temp = i\n",
    "            while j<m and i<n and needle[j]==haystack[i]:\n",
    "               i+=1\n",
    "               j+=1\n",
    "            if j == m:\n",
    "               return temp\n",
    "            i= temp+1\n",
    "            j = 0\n",
    "         else:\n",
    "            i+=1\n",
    "      return -1\n",
    "\n",
    "haystack = \"hello\"\n",
    "needle = \"lo\"\n",
    "ob1 = Solution()\n",
    "\n",
    "print(ob1.strStr(haystack, needle))"
   ]
  },
  {
   "cell_type": "markdown",
   "id": "69a64535",
   "metadata": {},
   "source": [
    "Question 12:\n",
    "\n",
    "    Minimum appends for Palindrome (strings)\n",
    "    Minimum number of Appends needed to make a string palindrome\n",
    "   \n",
    "Solution:\n",
    "\n",
    "    Given a string s we need to tell minimum characters to be appended (insertion at the end) to make a string palindrome (a word, verse, or sentence that reads the same backward or forward). \n",
    "   \n",
    "Example:\n",
    "\n",
    "      Input : s = \"abede\"\n",
    "      Output : 2\n",
    "      We can make string palindrome as \"abedeba\"\n",
    "      by adding *ba* at the end of the string."
   ]
  },
  {
   "cell_type": "code",
   "execution_count": 2,
   "id": "9e38949b",
   "metadata": {},
   "outputs": [
    {
     "name": "stdout",
     "output_type": "stream",
     "text": [
      "2\n"
     ]
    }
   ],
   "source": [
    "# Python3 program to find minimum number of appends needed to make a String Palindrome\n",
    " \n",
    "# Checking if the String is palindrome or not\n",
    "def isPalindrome(Str):\n",
    " \n",
    "    Len = len(Str)\n",
    " \n",
    "    # single character is always palindrome\n",
    "    if (Len == 1):\n",
    "        return True\n",
    " \n",
    "    # pointing to first character\n",
    "    ptr1 = 0\n",
    " \n",
    "    # pointing to last character\n",
    "    ptr2 = Len - 1\n",
    " \n",
    "    while (ptr2 > ptr1):\n",
    " \n",
    "        if (Str[ptr1] != Str[ptr2]):\n",
    "            return False\n",
    "        ptr1 += 1\n",
    "        ptr2 -= 1\n",
    " \n",
    "    return True\n",
    " \n",
    "# Recursive function to count number of appends\n",
    "def noOfAppends(s):\n",
    " \n",
    "    if (isPalindrome(s)):\n",
    "        return 0\n",
    " \n",
    "    # Removing first character of String by incrementing base address pointer.\n",
    "    del s[0]\n",
    " \n",
    "    return 1 + noOfAppends(s)\n",
    " \n",
    "# Driver Code\n",
    "se = \"Holl\"\n",
    "s = [i for i in se]\n",
    "\n",
    "print(noOfAppends(s))"
   ]
  },
  {
   "cell_type": "markdown",
   "id": "5256a7e5",
   "metadata": {},
   "source": [
    "Quuestion 13:\n",
    "\n",
    "     Find the largest rectangle in a histogram (stacks)\n",
    "Solution:\n",
    "\n",
    "    A histogram is a graph that shows the frequency of numerical data using rectangles. example "
   ]
  },
  {
   "cell_type": "code",
   "execution_count": 4,
   "id": "44c46e4b",
   "metadata": {},
   "outputs": [
    {
     "data": {
      "image/png": "[encoded data removed]",
      "text/plain": [
       "<IPython.core.display.Image object>"
      ]
     },
     "execution_count": 4,
     "metadata": {},
     "output_type": "execute_result"
    }
   ],
   "source": [
    "from IPython import display\n",
    "display.Image(\"/home/elon_musk/Desktop/histogram1.png\")\n"
   ]
  },
  {
   "cell_type": "code",
   "execution_count": 5,
   "id": "ec04ef51",
   "metadata": {},
   "outputs": [
    {
     "name": "stdout",
     "output_type": "stream",
     "text": [
      "Maximum area is 15\n"
     ]
    }
   ],
   "source": [
    "# Python3 program for range minimum query using segment tree\n",
    "from math import ceil,log2;  \n",
    "    \n",
    "# A utility function to get minimum of two numbers  \n",
    "def minVal(hist,x, y) :\n",
    "    if x==-1:\n",
    "        return y\n",
    "    if y==-1:\n",
    "        return x\n",
    "    return x if (hist[x] < hist[y]) else y;  \n",
    "    \n",
    "# A utility function to get the middle index from corner indexes.  \n",
    "def getMid(s, e) : \n",
    "    return s + (e - s) // 2;  \n",
    "\n",
    "def RMQUtil( hist,st, ss, se, qs, qe, index) : \n",
    "    \n",
    "    # If segment of this node is a part of given range, then return the min of the segment  \n",
    "    if (qs <= ss and qe >= se) : \n",
    "        return st[index];  \n",
    "    \n",
    "    # If segment of this node is outside the given range  \n",
    "    if (se < qs or ss > qe) : \n",
    "        return -1;  \n",
    "    \n",
    "    # If a part of this segment overlaps with the given range  \n",
    "    mid = getMid(ss, se);  \n",
    "    return minVal(hist,RMQUtil(hist,st, ss, mid, qs,  \n",
    "                          qe, 2 * index + 1),  \n",
    "                  RMQUtil(hist,st, mid + 1, se, \n",
    "                          qs, qe, 2 * index + 2));  \n",
    "    \n",
    "# Return minimum of elements in range from index qs (query start) to qe (query end). It mainly uses RMQUtil()  \n",
    "def RMQ( hist,st, n, qs, qe) :  \n",
    "    # Check for erroneous input values  \n",
    "    if (qs < 0 or qe > n - 1 or qs > qe) : \n",
    "        print(\"Invalid Input\");  \n",
    "        return -1;  \n",
    "        \n",
    "    return RMQUtil(hist,st, 0, n - 1, qs, qe, 0);  \n",
    "# A recursive function that constructs Segment Tree for array[ss..se].  \n",
    "# si is index of current node in segment tree st  \n",
    "def constructSTUtil(hist, ss, se, st, si) : \n",
    "    \n",
    "    # If there is one element in array, store it in current node of segment tree and return  \n",
    "    if (ss == se) : \n",
    "        st[si] = ss;  \n",
    "        return st[si];\n",
    "        \n",
    "    # If there are more than one elements, then recur for left and right subtrees and store the minimum of two values in this node  \n",
    "    mid = getMid(ss, se);  \n",
    "    st[si] = minVal(hist,constructSTUtil(hist, ss, mid, \n",
    "                                    st, si * 2 + 1), \n",
    "                    constructSTUtil(hist, mid + 1, se, \n",
    "                                    st, si * 2 + 2));  \n",
    "        \n",
    "    return st[si];  \n",
    "\n",
    "def constructST( hist, n) : \n",
    "    # Allocate memory for segment tree Height of segment tree  \n",
    "    x = (int)(ceil(log2(n)));  \n",
    "    \n",
    "    # Maximum size of segment tree  \n",
    "    max_size = 2 * (int)(2**x) - 1;  \n",
    "     \n",
    "    st = [0] * (max_size);  \n",
    "    \n",
    "    # Fill the allocated memory st  \n",
    "    constructSTUtil(hist, 0, n - 1, st, 0);  \n",
    "    \n",
    "    # Return the constructed segment tree  \n",
    "    return st;  \n",
    "#----------------------------------------------------------------\n",
    "  \n",
    "# main program\n",
    "# Python3 program using Divide and Conquer to find maximum rectangular area under a histogram\n",
    "def max_area_histogram(hist):\n",
    "    area=0\n",
    "    #initialize area\n",
    "    st = constructST(hist, len(hist))\n",
    "    # construct the segment tree\n",
    "      \n",
    "    try:\n",
    "        # try except block is generally used in this way to suppress all type of exceptions raised.\n",
    "          \n",
    "        def fun(left,right):\n",
    "        # this function \"fun\" calculates area recursively between indices left and right\n",
    "            nonlocal area\n",
    "            # global area won't work here as variable area is defined inside function not in main().\n",
    "            if left==right:\n",
    "                return\n",
    "            # the recursion has reached end\n",
    "               \n",
    "            index = RMQ(hist,st, len(hist), left, right-1)\n",
    "            # RMQ function returns index of minimum value in the range of [left,right-1] can also be found by using min() but results in O(n) instead of O(log n) for traversing\n",
    "              \n",
    "            area=max(area,hist[index]*(right-left))\n",
    "            # calculate area with minimum above\n",
    "            fun(index+1,right)\n",
    "            fun(left,index)\n",
    "            # initiate further recursion\n",
    "            return\n",
    "                   \n",
    "        fun(0,len(hist))\n",
    "        # initializes the recursion\n",
    "        return(area)\n",
    "        # return the max area to calling function in this case \"print\"\n",
    "    except:\n",
    "        pass\n",
    "      \n",
    "# Driver Code \n",
    "hist = [6, 2, 5, 4, 5, 3, 3] \n",
    "print(\"Maximum area is\",  \n",
    "       max_area_histogram(hist)) "
   ]
  },
  {
   "cell_type": "markdown",
   "id": "90f393ab",
   "metadata": {},
   "source": [
    "Question 14:\n",
    "\n",
    "     Substring concatenation (incremental hash)\n",
    "     \n",
    "Solution:\n",
    "    \n",
    "    Incremental hash functions suited for situations where if a previously hashed message, M is slightly updated into a new message, M*, then it should be fairly quick to compute the hash value of the updated message, M*. This is done by computing the new hash, m*, from the old hash value, m,"
   ]
  },
  {
   "cell_type": "code",
   "execution_count": 7,
   "id": "c9700012",
   "metadata": {},
   "outputs": [
    {
     "ename": "NameError",
     "evalue": "name 'Hasher' is not defined",
     "output_type": "error",
     "traceback": [
      "\u001b[0;31m---------------------------------------------------------------------------\u001b[0m",
      "\u001b[0;31mNameError\u001b[0m                                 Traceback (most recent call last)",
      "\u001b[0;32m/tmp/ipykernel_3230/1911831106.py\u001b[0m in \u001b[0;36m<module>\u001b[0;34m\u001b[0m\n\u001b[0;32m----> 1\u001b[0;31m \u001b[0mx\u001b[0m \u001b[0;34m=\u001b[0m \u001b[0mHasher\u001b[0m\u001b[0;34m(\u001b[0m\u001b[0;34m)\u001b[0m\u001b[0;34m\u001b[0m\u001b[0;34m\u001b[0m\u001b[0m\n\u001b[0m\u001b[1;32m      2\u001b[0m \u001b[0mx\u001b[0m\u001b[0;34m.\u001b[0m\u001b[0madd\u001b[0m\u001b[0;34m(\u001b[0m\u001b[0;34m\"hello \"\u001b[0m\u001b[0;34m)\u001b[0m\u001b[0;34m\u001b[0m\u001b[0;34m\u001b[0m\u001b[0m\n\u001b[1;32m      3\u001b[0m \u001b[0mx\u001b[0m\u001b[0;34m.\u001b[0m\u001b[0madd\u001b[0m\u001b[0;34m(\u001b[0m\u001b[0;34m\"world!\"\u001b[0m\u001b[0;34m)\u001b[0m\u001b[0;34m\u001b[0m\u001b[0;34m\u001b[0m\u001b[0m\n\u001b[1;32m      4\u001b[0m \u001b[0mx\u001b[0m\u001b[0;34m.\u001b[0m\u001b[0mget_hash\u001b[0m\u001b[0;34m(\u001b[0m\u001b[0;34m)\u001b[0m\u001b[0;34m\u001b[0m\u001b[0;34m\u001b[0m\u001b[0m\n",
      "\u001b[0;31mNameError\u001b[0m: name 'Hasher' is not defined"
     ]
    }
   ],
   "source": [
    "x = Hasher()\n",
    "x.add(\"hello \")\n",
    "x.add(\"world!\")\n",
    "x.get_hash()"
   ]
  },
  {
   "cell_type": "code",
   "execution_count": null,
   "id": "a293d488",
   "metadata": {},
   "outputs": [],
   "source": []
  }
 ],
 "metadata": {
  "kernelspec": {
   "display_name": "Python 3 (ipykernel)",
   "language": "python",
   "name": "python3"
  },
  "language_info": {
   "codemirror_mode": {
    "name": "ipython",
    "version": 3
   },
   "file_extension": ".py",
   "mimetype": "text/x-python",
   "name": "python",
   "nbconvert_exporter": "python",
   "pygments_lexer": "ipython3",
   "version": "3.10.5"
  }
 },
 "nbformat": 4,
 "nbformat_minor": 5
}
